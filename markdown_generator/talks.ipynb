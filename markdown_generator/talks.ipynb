{
 "cells": [
  {
   "cell_type": "markdown",
   "metadata": {
    "deletable": true,
    "editable": true
   },
   "source": [
    "# Talks markdown generator for academicpages\n",
    "\n",
    "Takes a TSV of talks with metadata and converts them for use with [academicpages.github.io](academicpages.github.io). This is an interactive Jupyter notebook ([see more info here](http://jupyter-notebook-beginner-guide.readthedocs.io/en/latest/what_is_jupyter.html)). The core python code is also in `talks.py`. Run either from the `markdown_generator` folder after replacing `talks.tsv` with one containing your data.\n",
    "\n",
    "TODO: Make this work with BibTex and other databases, rather than Stuart's non-standard TSV format and citation style."
   ]
  },
  {
   "cell_type": "code",
   "execution_count": 1,
   "metadata": {
    "collapsed": false,
    "deletable": true,
    "editable": true
   },
   "outputs": [],
   "source": [
    "import pandas as pd\n",
    "import os"
   ]
  },
  {
   "cell_type": "markdown",
   "metadata": {},
   "source": [
    "## Data format\n",
    "\n",
    "The TSV needs to have the following columns: title, type, url_slug, venue, date, location, talk_url, description, with a header at the top. Many of these fields can be blank, but the columns must be in the TSV.\n",
    "\n",
    "- Fields that cannot be blank: `title`, `url_slug`, `date`. All else can be blank. `type` defaults to \"Talk\" \n",
    "- `date` must be formatted as YYYY-MM-DD.\n",
    "- `url_slug` will be the descriptive part of the .md file and the permalink URL for the page about the paper. \n",
    "    - The .md file will be `YYYY-MM-DD-[url_slug].md` and the permalink will be `https://[yourdomain]/talks/YYYY-MM-DD-[url_slug]`\n",
    "    - The combination of `url_slug` and `date` must be unique, as it will be the basis for your filenames\n",
    "\n",
    "This is how the raw file looks (it doesn't look pretty, use a spreadsheet or other program to edit and create)."
   ]
  },
  {
   "cell_type": "code",
   "execution_count": 2,
   "metadata": {
    "collapsed": false
   },
   "outputs": [
    {
     "name": "stderr",
     "output_type": "stream",
     "text": [
      "'cat' is not recognized as an internal or external command,\n",
      "operable program or batch file.\n"
     ]
    }
   ],
   "source": [
    "!cat talks.tsv"
   ]
  },
  {
   "cell_type": "markdown",
   "metadata": {},
   "source": [
    "## Import TSV\n",
    "\n",
    "Pandas makes this easy with the read_csv function. We are using a TSV, so we specify the separator as a tab, or `\\t`.\n",
    "\n",
    "I found it important to put this data in a tab-separated values format, because there are a lot of commas in this kind of data and comma-separated values can get messed up. However, you can modify the import statement, as pandas also has read_excel(), read_json(), and others."
   ]
  },
  {
   "cell_type": "code",
   "execution_count": 3,
   "metadata": {
    "collapsed": false,
    "deletable": true,
    "editable": true
   },
   "outputs": [
    {
     "data": {
      "text/html": [
       "<div>\n",
       "<style scoped>\n",
       "    .dataframe tbody tr th:only-of-type {\n",
       "        vertical-align: middle;\n",
       "    }\n",
       "\n",
       "    .dataframe tbody tr th {\n",
       "        vertical-align: top;\n",
       "    }\n",
       "\n",
       "    .dataframe thead th {\n",
       "        text-align: right;\n",
       "    }\n",
       "</style>\n",
       "<table border=\"1\" class=\"dataframe\">\n",
       "  <thead>\n",
       "    <tr style=\"text-align: right;\">\n",
       "      <th></th>\n",
       "      <th>title</th>\n",
       "      <th>type</th>\n",
       "      <th>url_slug</th>\n",
       "      <th>venue</th>\n",
       "      <th>date</th>\n",
       "      <th>location</th>\n",
       "      <th>talk_url</th>\n",
       "      <th>description</th>\n",
       "    </tr>\n",
       "  </thead>\n",
       "  <tbody>\n",
       "    <tr>\n",
       "      <th>0</th>\n",
       "      <td>Invited upcoming talk</td>\n",
       "      <td>Talk</td>\n",
       "      <td>talk-9</td>\n",
       "      <td>ENAR 2025</td>\n",
       "      <td>2025-03-23</td>\n",
       "      <td>New Orleans, LA, USA</td>\n",
       "      <td>NaN</td>\n",
       "      <td>NaN</td>\n",
       "    </tr>\n",
       "    <tr>\n",
       "      <th>1</th>\n",
       "      <td>Invited upcoming talk</td>\n",
       "      <td>Talk</td>\n",
       "      <td>talk-8</td>\n",
       "      <td>INFORMS Annual Meeting 2024</td>\n",
       "      <td>2024-10-22</td>\n",
       "      <td>Seattle, WA, USA</td>\n",
       "      <td>NaN</td>\n",
       "      <td>NaN</td>\n",
       "    </tr>\n",
       "    <tr>\n",
       "      <th>2</th>\n",
       "      <td>reBandit: Random Effects based Online RL algor...</td>\n",
       "      <td>Conference proceedings talk</td>\n",
       "      <td>talk-7</td>\n",
       "      <td>IJCAI 2024</td>\n",
       "      <td>2024-08-06</td>\n",
       "      <td>Jeju, South Korea</td>\n",
       "      <td>NaN</td>\n",
       "      <td>NaN</td>\n",
       "    </tr>\n",
       "    <tr>\n",
       "      <th>3</th>\n",
       "      <td>MiWaves: AI-driven Digital Health Intervention...</td>\n",
       "      <td>Talk</td>\n",
       "      <td>talk-6</td>\n",
       "      <td>SAA 2024</td>\n",
       "      <td>2024-06-04</td>\n",
       "      <td>Ann Arbor, MI, USA</td>\n",
       "      <td>NaN</td>\n",
       "      <td>NaN</td>\n",
       "    </tr>\n",
       "    <tr>\n",
       "      <th>4</th>\n",
       "      <td>RL in real life: mixed effects models and reBa...</td>\n",
       "      <td>Lecture</td>\n",
       "      <td>lecture-1</td>\n",
       "      <td>STAT 234</td>\n",
       "      <td>2024-04-17</td>\n",
       "      <td>Boston, MA, USA</td>\n",
       "      <td>NaN</td>\n",
       "      <td>NaN</td>\n",
       "    </tr>\n",
       "    <tr>\n",
       "      <th>5</th>\n",
       "      <td>MiWaves: Using AI to help reduce cannabis use ...</td>\n",
       "      <td>Talk/Brainstorm</td>\n",
       "      <td>talk-5</td>\n",
       "      <td>d3c Think Tank</td>\n",
       "      <td>2024-01-19</td>\n",
       "      <td>Ann Arbor, MI, USA</td>\n",
       "      <td>NaN</td>\n",
       "      <td>NaN</td>\n",
       "    </tr>\n",
       "    <tr>\n",
       "      <th>6</th>\n",
       "      <td>MiWaves: developing a 2nd Generation JITAI to ...</td>\n",
       "      <td>Talk/Brainstorm</td>\n",
       "      <td>talk-4</td>\n",
       "      <td>d3c Think Tank</td>\n",
       "      <td>2023-05-12</td>\n",
       "      <td>Ann Arbor, MI, USA</td>\n",
       "      <td>NaN</td>\n",
       "      <td>NaN</td>\n",
       "    </tr>\n",
       "    <tr>\n",
       "      <th>7</th>\n",
       "      <td>MiWaves</td>\n",
       "      <td>Talk/Brainstorm</td>\n",
       "      <td>talk-3</td>\n",
       "      <td>d3c Think Tank</td>\n",
       "      <td>2022-10-05</td>\n",
       "      <td>Ann Arbor, MI, USA</td>\n",
       "      <td>NaN</td>\n",
       "      <td>NaN</td>\n",
       "    </tr>\n",
       "    <tr>\n",
       "      <th>8</th>\n",
       "      <td>VidyutVanika: A Reinforcement Learning Based B...</td>\n",
       "      <td>Conference proceedings talk</td>\n",
       "      <td>talk-2</td>\n",
       "      <td>AAAI 2019</td>\n",
       "      <td>2019-01-30</td>\n",
       "      <td>Honolulu, HI, USA</td>\n",
       "      <td>NaN</td>\n",
       "      <td>NaN</td>\n",
       "    </tr>\n",
       "    <tr>\n",
       "      <th>9</th>\n",
       "      <td>Review of Sidebar and it's functionality</td>\n",
       "      <td>Talk</td>\n",
       "      <td>talk-1</td>\n",
       "      <td>LibreOffice Annual Conference 2016</td>\n",
       "      <td>2016-09-09</td>\n",
       "      <td>Brno, Czech Republic</td>\n",
       "      <td>NaN</td>\n",
       "      <td>Summary of my entire work on 'Review of Sideba...</td>\n",
       "    </tr>\n",
       "  </tbody>\n",
       "</table>\n",
       "</div>"
      ],
      "text/plain": [
       "                                               title  \\\n",
       "0                              Invited upcoming talk   \n",
       "1                              Invited upcoming talk   \n",
       "2  reBandit: Random Effects based Online RL algor...   \n",
       "3  MiWaves: AI-driven Digital Health Intervention...   \n",
       "4  RL in real life: mixed effects models and reBa...   \n",
       "5  MiWaves: Using AI to help reduce cannabis use ...   \n",
       "6  MiWaves: developing a 2nd Generation JITAI to ...   \n",
       "7                                            MiWaves   \n",
       "8  VidyutVanika: A Reinforcement Learning Based B...   \n",
       "9           Review of Sidebar and it's functionality   \n",
       "\n",
       "                          type   url_slug                               venue  \\\n",
       "0                         Talk     talk-9                           ENAR 2025   \n",
       "1                         Talk     talk-8         INFORMS Annual Meeting 2024   \n",
       "2  Conference proceedings talk     talk-7                          IJCAI 2024   \n",
       "3                         Talk     talk-6                            SAA 2024   \n",
       "4                      Lecture  lecture-1                            STAT 234   \n",
       "5              Talk/Brainstorm     talk-5                      d3c Think Tank   \n",
       "6              Talk/Brainstorm     talk-4                      d3c Think Tank   \n",
       "7              Talk/Brainstorm     talk-3                      d3c Think Tank   \n",
       "8  Conference proceedings talk     talk-2                           AAAI 2019   \n",
       "9                         Talk     talk-1  LibreOffice Annual Conference 2016   \n",
       "\n",
       "         date              location  talk_url  \\\n",
       "0  2025-03-23  New Orleans, LA, USA       NaN   \n",
       "1  2024-10-22      Seattle, WA, USA       NaN   \n",
       "2  2024-08-06     Jeju, South Korea       NaN   \n",
       "3  2024-06-04    Ann Arbor, MI, USA       NaN   \n",
       "4  2024-04-17       Boston, MA, USA       NaN   \n",
       "5  2024-01-19    Ann Arbor, MI, USA       NaN   \n",
       "6  2023-05-12    Ann Arbor, MI, USA       NaN   \n",
       "7  2022-10-05    Ann Arbor, MI, USA       NaN   \n",
       "8  2019-01-30     Honolulu, HI, USA       NaN   \n",
       "9  2016-09-09  Brno, Czech Republic       NaN   \n",
       "\n",
       "                                         description  \n",
       "0                                                NaN  \n",
       "1                                                NaN  \n",
       "2                                                NaN  \n",
       "3                                                NaN  \n",
       "4                                                NaN  \n",
       "5                                                NaN  \n",
       "6                                                NaN  \n",
       "7                                                NaN  \n",
       "8                                                NaN  \n",
       "9  Summary of my entire work on 'Review of Sideba...  "
      ]
     },
     "execution_count": 3,
     "metadata": {},
     "output_type": "execute_result"
    }
   ],
   "source": [
    "talks = pd.read_csv(\"talks.tsv\", sep=\"\\t\", header=0)\n",
    "talks"
   ]
  },
  {
   "cell_type": "markdown",
   "metadata": {},
   "source": [
    "## Escape special characters\n",
    "\n",
    "YAML is very picky about how it takes a valid string, so we are replacing single and double quotes (and ampersands) with their HTML encoded equivilents. This makes them look not so readable in raw format, but they are parsed and rendered nicely."
   ]
  },
  {
   "cell_type": "code",
   "execution_count": 4,
   "metadata": {
    "collapsed": false,
    "deletable": true,
    "editable": true
   },
   "outputs": [],
   "source": [
    "html_escape_table = {\n",
    "    \"&\": \"&amp;\",\n",
    "    '\"': \"&quot;\",\n",
    "    \"'\": \"&apos;\"\n",
    "    }\n",
    "\n",
    "def html_escape(text):\n",
    "    if type(text) is str:\n",
    "        return \"\".join(html_escape_table.get(c,c) for c in text)\n",
    "    else:\n",
    "        return \"False\""
   ]
  },
  {
   "cell_type": "markdown",
   "metadata": {},
   "source": [
    "## Creating the markdown files\n",
    "\n",
    "This is where the heavy lifting is done. This loops through all the rows in the TSV dataframe, then starts to concatentate a big string (```md```) that contains the markdown for each type. It does the YAML metadata first, then does the description for the individual page."
   ]
  },
  {
   "cell_type": "code",
   "execution_count": 5,
   "metadata": {
    "collapsed": false,
    "deletable": true,
    "editable": true
   },
   "outputs": [],
   "source": [
    "loc_dict = {}\n",
    "\n",
    "for row, item in talks.iterrows():\n",
    "    \n",
    "    md_filename = str(item.date) + \"-\" + item.url_slug + \".md\"\n",
    "    html_filename = str(item.date) + \"-\" + item.url_slug \n",
    "    year = item.date[:4]\n",
    "    \n",
    "    md = \"---\\ntitle: \\\"\"   + item.title + '\"\\n'\n",
    "    md += \"collection: talks\" + \"\\n\"\n",
    "    \n",
    "    if len(str(item.type)) > 3:\n",
    "        md += 'type: \"' + item.type + '\"\\n'\n",
    "    else:\n",
    "        md += 'type: \"Talk\"\\n'\n",
    "    \n",
    "    md += \"permalink: /talks/\" + html_filename + \"\\n\"\n",
    "    \n",
    "    if len(str(item.venue)) > 3:\n",
    "        md += 'venue: \"' + item.venue + '\"\\n'\n",
    "        \n",
    "    if len(str(item.location)) > 3:\n",
    "        md += \"date: \" + str(item.date) + \"\\n\"\n",
    "    \n",
    "    if len(str(item.location)) > 3:\n",
    "        md += 'location: \"' + str(item.location) + '\"\\n'\n",
    "           \n",
    "    md += \"---\\n\"\n",
    "    \n",
    "    \n",
    "    if len(str(item.talk_url)) > 3:\n",
    "        md += \"\\n[More information here](\" + item.talk_url + \")\\n\" \n",
    "        \n",
    "    \n",
    "    if len(str(item.description)) > 3:\n",
    "        md += \"\\n\" + html_escape(item.description) + \"\\n\"\n",
    "        \n",
    "        \n",
    "    md_filename = os.path.basename(md_filename)\n",
    "    #print(md)\n",
    "    \n",
    "    with open(\"../_talks/\" + md_filename, 'w') as f:\n",
    "        f.write(md)"
   ]
  },
  {
   "cell_type": "markdown",
   "metadata": {},
   "source": [
    "These files are in the talks directory, one directory below where we're working from."
   ]
  },
  {
   "cell_type": "code",
   "execution_count": 6,
   "metadata": {
    "collapsed": false,
    "deletable": true,
    "editable": true
   },
   "outputs": [
    {
     "name": "stdout",
     "output_type": "stream",
     "text": [
      "2012-03-01-talk-1.md\t  2014-02-01-talk-2.md\r\n",
      "2013-03-01-tutorial-1.md  2014-03-01-talk-3.md\r\n"
     ]
    }
   ],
   "source": [
    "!ls ../_talks"
   ]
  },
  {
   "cell_type": "code",
   "execution_count": 7,
   "metadata": {
    "collapsed": false,
    "deletable": true,
    "editable": true
   },
   "outputs": [
    {
     "name": "stdout",
     "output_type": "stream",
     "text": [
      "---\r\n",
      "title: \"Tutorial 1 on Relevant Topic in Your Field\"\r\n",
      "collection: talks\r\n",
      "type: \"Tutorial\"\r\n",
      "permalink: /talks/2013-03-01-tutorial-1\r\n",
      "venue: \"UC-Berkeley Institute for Testing Science\"\r\n",
      "date: 2013-03-01\r\n",
      "location: \"Berkeley CA, USA\"\r\n",
      "---\r\n",
      "\r\n",
      "[More information here](http://exampleurl.com)\r\n",
      "\r\n",
      "This is a description of your tutorial, note the different field in type. This is a markdown files that can be all markdown-ified like any other post. Yay markdown!\r\n"
     ]
    }
   ],
   "source": [
    "!cat ../_talks/2013-03-01-tutorial-1.md"
   ]
  }
 ],
 "metadata": {
  "kernelspec": {
   "display_name": "Python 3",
   "language": "python",
   "name": "python3"
  },
  "language_info": {
   "codemirror_mode": {
    "name": "ipython",
    "version": 3
   },
   "file_extension": ".py",
   "mimetype": "text/x-python",
   "name": "python",
   "nbconvert_exporter": "python",
   "pygments_lexer": "ipython3",
   "version": "3.9.16"
  }
 },
 "nbformat": 4,
 "nbformat_minor": 0
}
